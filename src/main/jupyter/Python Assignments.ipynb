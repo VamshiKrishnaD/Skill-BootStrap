{
 "cells": [
  {
   "cell_type": "code",
   "execution_count": 263,
   "metadata": {},
   "outputs": [],
   "source": [
    "# Importing python libraries\n",
    "import numpy as np\n",
    "import pandas as pd\n",
    "import sqlite3\n",
    "import seaborn as sns\n",
    "import warnings\n",
    "warnings.filterwarnings('ignore')\n"
   ]
  },
  {
   "cell_type": "code",
   "execution_count": 7,
   "metadata": {},
   "outputs": [
    {
     "name": "stdout",
     "output_type": "stream",
     "text": [
      "Average Length of String:  4.2063492063492065\n"
     ]
    }
   ],
   "source": [
    "# 1. Consider the above text as a string, figure out the average length of the string.\n",
    "txt = \"I am very keen in building up my career in Data Science, but not sure from where to start. If I search the web it throws me thousands of articles, few are relevant others make me confused, again I come around to the same page. Supervised has provided me a good platform to remove all such qualms which were wrangling in my mind\"\n",
    "print('Average Length of String: ',sum(len(word) for word in txt.split()) / len(txt.split()))\n"
   ]
  },
  {
   "cell_type": "code",
   "execution_count": 13,
   "metadata": {},
   "outputs": [
    {
     "name": "stdout",
     "output_type": "stream",
     "text": [
      "Lower String: \n",
      " \n",
      " i am very keen in building up my career in data science, but not sure from where to start.\n"
     ]
    }
   ],
   "source": [
    "# 2. Lower the text in the string.\n",
    "txt = \"I am very keen in building up my career in Data Science, but not sure from where to start.\"\n",
    "print('Lower String: \\n \\n',txt.lower())"
   ]
  },
  {
   "cell_type": "code",
   "execution_count": 28,
   "metadata": {},
   "outputs": [
    {
     "data": {
      "text/plain": [
       "'I am very keen in building up my career in Data Science but not sure from where to start'"
      ]
     },
     "execution_count": 28,
     "metadata": {},
     "output_type": "execute_result"
    }
   ],
   "source": [
    "# 3. Try to get the clean text removing the punctuation from the string.\n",
    "txt = \"I am very keen in building up my career in 'Data Science'?, but not sure from where to start!\"\n",
    "txt.translate(str.maketrans('', '', string.punctuation))"
   ]
  },
  {
   "cell_type": "code",
   "execution_count": 51,
   "metadata": {},
   "outputs": [
    {
     "name": "stdout",
     "output_type": "stream",
     "text": [
      "Data Science\n"
     ]
    }
   ],
   "source": [
    "# 5. Extract word \"Data Science\" from the string.\n",
    "if \"Data Science\" in txt : \n",
    "    print (\"Data Science\")"
   ]
  },
  {
   "cell_type": "code",
   "execution_count": 81,
   "metadata": {},
   "outputs": [
    {
     "name": "stdout",
     "output_type": "stream",
     "text": [
      " Word                  : in \n",
      " No.of times it occured: 2\n"
     ]
    }
   ],
   "source": [
    "# 6. Fetch the duplicate pairs used in the string\n",
    "from collections import defaultdict\n",
    "\n",
    "txt = \"I am very keen in building up my career in Data Science, but not sure from where to start.\"\n",
    "d = {}\n",
    "for word in txt.split():\n",
    "    d[word] = d.get(word, 0) +1\n",
    "\n",
    "for key, value in d.items():\n",
    "    if value == 2:\n",
    "        print (\" Word                  :\",key,\"\\n No.of times it occured:\",value)"
   ]
  },
  {
   "cell_type": "code",
   "execution_count": 83,
   "metadata": {},
   "outputs": [
    {
     "data": {
      "text/plain": [
       "'I am very keen in building up my career in Data Science, but not sure from where to start. If I search the web it throws me thousands of articles, few are relevant others make me confused, again I come around to the same page. Unsupervised has provided me a good platform to remove all such qualms which were wrangling in my mind'"
      ]
     },
     "execution_count": 83,
     "metadata": {},
     "output_type": "execute_result"
    }
   ],
   "source": [
    "# 7. Can you change the word \"Supervised\" to \"Unsupervised\" in the string\n",
    "import re\n",
    "txt = \"I am very keen in building up my career in Data Science, but not sure from where to start. If I search the web it throws me thousands of articles, few are relevant others make me confused, again I come around to the same page. Supervised has provided me a good platform to remove all such qualms which were wrangling in my mind\"\n",
    "re.sub('Supervised', 'Unsupervised', txt)"
   ]
  },
  {
   "cell_type": "code",
   "execution_count": 95,
   "metadata": {},
   "outputs": [
    {
     "data": {
      "text/plain": [
       "['I am very keen in building up my career in Data Science, but not sure from where to start',\n",
       " ' If I search the web it throws me thousands of articles, few are relevant others make me confused, again I come around to the same page',\n",
       " ' Supervised has provided me a good platform to remove all such qualms which were wrangling in my mind']"
      ]
     },
     "execution_count": 95,
     "metadata": {},
     "output_type": "execute_result"
    }
   ],
   "source": [
    "# 8.Splitting of the string with a dot operator(.)\n",
    "txt = \"I am very keen in building up my career in Data Science, but not sure from where to start. If I search the web it throws me thousands of articles, few are relevant others make me confused, again I come around to the same page. Supervised has provided me a good platform to remove all such qualms which were wrangling in my mind\"\n",
    "txt.split('.')"
   ]
  },
  {
   "cell_type": "code",
   "execution_count": 100,
   "metadata": {},
   "outputs": [
    {
     "name": "stdout",
     "output_type": "stream",
     "text": [
      "sure\n",
      "where\n",
      "the\n",
      "me\n",
      "are\n",
      "make\n",
      "me\n",
      "come\n",
      "the\n",
      "same\n",
      "me\n",
      "remove\n",
      "were\n"
     ]
    }
   ],
   "source": [
    "# 9. Find the words from the string which ends with \"e\"\n",
    "txt = \"I am very keen in building up my career in Data Science, but not sure from where to start. If I search the web it throws me thousands of articles, few are relevant others make me confused, again I come around to the same page. Supervised has provided me a good platform to remove all such qualms which were wrangling in my mind\"\n",
    "\n",
    "for word in txt.split():\n",
    "    if word.endswith('e'):\n",
    "        print(word)"
   ]
  },
  {
   "cell_type": "code",
   "execution_count": 106,
   "metadata": {},
   "outputs": [
    {
     "name": "stdout",
     "output_type": "stream",
     "text": [
      "22\n"
     ]
    }
   ],
   "source": [
    "# 10. Figure out number of a's used in the string.\n",
    "from collections import Counter\n",
    "\n",
    "txt = \"I am very keen in building up my career in Data Science, but not sure from where to start. If I search the web it throws me thousands of articles, few are relevant others make me confused, again I come around to the same page. Supervised has provided me a good platform to remove all such qualms which were wrangling in my mind\"\n",
    "char = 'a'\n",
    "counter = 0\n",
    "\n",
    "for word in txt.split():\n",
    "    for letter in word:\n",
    "        if(letter == char):\n",
    "            counter += 1\n",
    "print (counter)"
   ]
  },
  {
   "cell_type": "code",
   "execution_count": 213,
   "metadata": {},
   "outputs": [
    {
     "name": "stdout",
     "output_type": "stream",
     "text": [
      "Total Billing Item Level Amount:  {'apple': 55.0, 'sugar': 21.5, 'rice': 45, 'milk': 75.0, 'egg': 60}\n",
      "Total Billing Amount           :  256.5\n"
     ]
    }
   ],
   "source": [
    "##Dictionary:\n",
    "\n",
    "# In the weekend , I purchased 250g of apple, 500g of sugar, 2.5 kg of rice, 2.5 litres of milk and finally 1 dozen of egg.\n",
    "# 1. Can you help me frame the above purchase in the form of dictionary with commodities as keys to it.\n",
    "dict1 = {'apple' :{ 'weight' : 250 , 'measure' : 'g'    },\n",
    "         'sugar' :{ 'weight' : 500 , 'measure' : 'g'    },\n",
    "         'rice'  :{ 'weight' : 2.5 , 'measure' : 'kg'   },\n",
    "         'milk'  :{ 'weight' : 2.5 , 'measure' : 'liter'}, \n",
    "         'egg'   :{ 'weight' : 1   , 'measure' : 'dozen'}\n",
    "        }\n",
    "\n",
    "# 2. I forgot to mention another item, 1kg of atta packet. Can you also add it ?\n",
    "# 3. Instead of 2.5kg of rice, I bought only 1kg of rice. Can you change the corresponding value ?\n",
    "dict1['atta'] = {'weight': 1, 'measure': 'kg'}\n",
    "dict1['rice'] = {'weight': 1, 'measure': 'kg'}\n",
    "\n",
    "# 4. Can you list out all these items using a loop.\n",
    "for k1,v1 in dict1.items():  \n",
    "    temp = \"\"   \n",
    "    temp+=k1\n",
    "    for k2,v2 in v1.items():\n",
    "        temp = temp+\" \"+str(v2)\n",
    "    #print(temp)\n",
    "    \n",
    "\n",
    "# However, the cost of 1 kg apple is Rs.220, 1 kg of sugar is Rs.43, 1 Kg of rice is Rs. 45, 1 litre of milk is Rs.30 and 1 dozen of egg is Rs. 60.\n",
    "# Create another dictionary for pricing. Thereby, prepare a bill for me of the overall cost of the total commodities purchased by using two dictionaries !\n",
    "dict2 = {'apple' : 220 , 'sugar' : 43, 'rice' : 45, 'milk' : 30, 'egg' : 60}\n",
    "final_dict = {}\n",
    "\n",
    "for k1, v1 in dict1.items():\n",
    "    for k2, v2 in v1.items():\n",
    "        if k2 == 'weight':\n",
    "            for k3, v3 in dict2.items():\n",
    "                if k3 == 'apple' and k3 == k1:\n",
    "                    final_dict.update(apple = v3*1/4)\n",
    "                elif k3 == 'sugar' and k3 == k1:\n",
    "                    final_dict.update(sugar = v3*1/2)\n",
    "                elif k1 == 'rice' and k3 == k1:\n",
    "                    final_dict.update(rice = v3*v2)\n",
    "                elif k1 == 'milk' and k3 == k1:\n",
    "                    final_dict.update(milk = v3*v2)\n",
    "                elif k1 == 'egg' and k3 == k1:\n",
    "                    final_dict.update(egg = v3*v2)\n",
    "\n",
    "print('Total Billing Item Level Amount: ' ,final_dict)\n",
    "print('Total Billing Amount           : ' ,sum(final_dict.values()))"
   ]
  },
  {
   "cell_type": "code",
   "execution_count": 240,
   "metadata": {},
   "outputs": [
    {
     "name": "stdout",
     "output_type": "stream",
     "text": [
      "['Amazon', 'Apple', 'Facebook', 'Google', 'HiSilicon', 'MicroSoft', 'SenseTime']\n",
      "['Amazon', 'Apple', 'Facebook', 'Google', 'HiSilicon', 'MicroSoft', 'SenseTime', 'Nvidia', 'OpenAI', 'Qualcomm', 'Reliance']\n",
      "['amazon', 'apple', 'facebook', 'google', 'hisilicon', 'microsoft', 'sensetime', 'nvidia', 'openai', 'qualcomm', 'reliance']\n",
      "['Amazon', 'Apple', 'Facebook', 'Google', 'HiSilicon', 'MicroSoft', 'SenseTime', 'Nvidia', 'OpenAI', 'Qualcomm']\n"
     ]
    },
    {
     "data": {
      "text/plain": [
       "['Facebook', 'Google']"
      ]
     },
     "execution_count": 240,
     "metadata": {},
     "output_type": "execute_result"
    }
   ],
   "source": [
    "## List:\n",
    "\n",
    "# Listed all Top AI companies in the world.\n",
    "AI_Companies = ['Amazon','Facebook','HiSilicon','Google','Apple','MicroSoft','SenseTime']\n",
    "\n",
    "#Sort the list in ascending order\n",
    "AI_Companies.sort()\n",
    "print(AI_Companies)\n",
    "\n",
    "#Add multiple companies at once 'Nvidia', 'OpenAI' , 'Qualcomm' and 'Reliance' to the list\n",
    "AI_Companies.extend(['Nvidia', 'OpenAI', 'Qualcomm', 'Reliance'])\n",
    "print(AI_Companies)\n",
    "\n",
    "#Lower the list using List comprehension\n",
    "print([item.lower() for item in AI_Companies])\n",
    "\n",
    "#Elimiate 'Reliance' from the list\n",
    "AI_Companies.remove('Reliance')\n",
    "print(AI_Companies)\n",
    "\n",
    "#Extract 'Facebook', 'Google'  using a single command\n",
    "list(filter(lambda x: x in ['Facebook','Google'], AI_Companies))\n"
   ]
  },
  {
   "cell_type": "code",
   "execution_count": 262,
   "metadata": {},
   "outputs": [
    {
     "name": "stdout",
     "output_type": "stream",
     "text": [
      "Min,Max price from tuple:  30 , 220\n",
      "List to Tuple :  ('Amazon', 'Facebook', 'HiSilicon', 'Google', 'Apple', 'MicroSoft', 'SenseTime')\n",
      "Merged tuples:  ('Amazon', 'Facebook', 'HiSilicon', 'Google', 'Apple', 'MicroSoft', 'SenseTime', 220, 43, 45, 30, 60)\n",
      "Length after merging two tuples :  12\n"
     ]
    }
   ],
   "source": [
    "## Tuples:\n",
    "#(a)Consider the above standard price problem statement and place the prices in the form of the tuple.\n",
    "prices = (220 , 43,  45,  30,  60)\n",
    "\n",
    "#(b)Find out the min and max price among them.\n",
    "print('Min,Max price from tuple: ', min(prices),',',max(prices))\n",
    "\n",
    "#(c)Also, convert the above \"AI_companies\" list to a tuple.\n",
    "AI_Companies = ['Amazon','Facebook','HiSilicon','Google','Apple','MicroSoft','SenseTime']\n",
    "print('List to Tuple : ',tuple(AI_Companies))\n",
    "\n",
    "#(d)Combine two above tuples to a single tuple.\n",
    "Combined = tuple(AI_Companies) + prices\n",
    "print('Merged tuples: ', Combined)\n",
    "print('Length after merging two tuples : ', len(Combined))\n",
    "#(e)Compare the length of two tuples."
   ]
  },
  {
   "cell_type": "code",
   "execution_count": null,
   "metadata": {},
   "outputs": [],
   "source": []
  }
 ],
 "metadata": {
  "kernelspec": {
   "display_name": "Python 3",
   "language": "python",
   "name": "python3"
  },
  "language_info": {
   "codemirror_mode": {
    "name": "ipython",
    "version": 3
   },
   "file_extension": ".py",
   "mimetype": "text/x-python",
   "name": "python",
   "nbconvert_exporter": "python",
   "pygments_lexer": "ipython3",
   "version": "3.7.3"
  }
 },
 "nbformat": 4,
 "nbformat_minor": 2
}
