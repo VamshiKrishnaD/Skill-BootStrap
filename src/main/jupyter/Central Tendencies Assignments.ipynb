{
 "cells": [
  {
   "cell_type": "code",
   "execution_count": 2,
   "metadata": {},
   "outputs": [
    {
     "name": "stdout",
     "output_type": "stream",
     "text": [
      "Means:  7.0 , 8.5 , 11.4\n"
     ]
    }
   ],
   "source": [
    "# 1. Find the mean of the following data using hand and compare with numpy.mean()\n",
    "# (a) 9, 7, 11, 13, 2, 4, 5, 5\n",
    "# (b) 2.2, 10.2, 14.7, 5.9, 4.9, 11.1, 10.5\n",
    "# (c) 11/4, 21/2, 51/2, 31/4, 21/2\n",
    "import numpy as np\n",
    "\n",
    "Manual : \n",
    "    (9+7+11+13+2+4+5+5)/8               = 56/8     = 7\n",
    "    (2.2+10.2+14.7+5.7+4.9+11.1+10.5)/7 = 59.3/7   = 8.4\n",
    "    (11/4+21/2+51/2+31/4+21/2)/5        = 57/5     = 11.4\n",
    "\n",
    "Numpy :\n",
    "lst1 = [9, 7, 11, 13, 2, 4, 5, 5]\n",
    "lst2 = [2.2, 10.2, 14.7, 5.9, 4.9, 11.1, 10.5]\n",
    "lst3 = [11/4, 21/2, 51/2, 31/4, 21/2]\n",
    "print(\"Means: \",np.mean(lst1),',',np.mean(lst2),',',np.mean(lst3))\n"
   ]
  },
  {
   "cell_type": "code",
   "execution_count": 4,
   "metadata": {},
   "outputs": [
    {
     "name": "stdout",
     "output_type": "stream",
     "text": [
      "Fibonacci List           :  [0, 1, 1, 2, 3, 5, 8, 13, 21, 34]\n",
      "Average of Fibonacci List:  8.8\n"
     ]
    }
   ],
   "source": [
    "# 2. Find the mean of first 10 Fibonacci numbers (Use a for loop to create 10 Fibonacci series)\n",
    "# Initializing First and Second Values of a Series\n",
    "import numpy as np\n",
    "from statistics import mean \n",
    "\n",
    "First_Value = 0\n",
    "Second_Value = 1\n",
    "lst =[]       \n",
    "\n",
    "# Find & Displaying Fibonacci series\n",
    "for Num in range(0,10):\n",
    "    if(Num <= 1):\n",
    "        Next = Num\n",
    "    else:\n",
    "        Next = First_Value + Second_Value\n",
    "        First_Value = Second_Value\n",
    "        Second_Value = Next\n",
    "    lst.append(Next)\n",
    "\n",
    "print(\"Fibonacci List           : \",lst)\n",
    "print(\"Average of Fibonacci List: \",mean(lst))"
   ]
  },
  {
   "cell_type": "code",
   "execution_count": 19,
   "metadata": {},
   "outputs": [
    {
     "name": "stdout",
     "output_type": "stream",
     "text": [
      "Mean & Median of Prime Numbers:  5.6 , 5\n"
     ]
    }
   ],
   "source": [
    "# 3. Find the mean and median of first 5 prime numbers\n",
    "import numpy as np\n",
    "from statistics import mean ,median\n",
    "\n",
    "prime_numbers = [2,3]\n",
    "for i in range(2,5):\n",
    "    next_pn = prime_numbers[-1]+2\n",
    "    while any(not(next_pn%pn) for pn in prime_numbers):\n",
    "        next_pn += 2\n",
    "    prime_numbers.append(next_pn)\n",
    "print(\"Mean & Median of Prime Numbers: \",mean(prime_numbers),',',median(prime_numbers))"
   ]
  },
  {
   "cell_type": "code",
   "execution_count": null,
   "metadata": {},
   "outputs": [],
   "source": [
    "# 4. The mean of 8, 11, 6, 14, x and 13 is 66. Find the value of the observation x.\n",
    "# Basic calculations\n",
    "(8+11+6+14+13+x)/6 = 66 \n",
    "(8+11+6+14+13+x)   = 66*6\n",
    "(52+x)             = 396\n",
    "x                  = 396 - 52 = 344"
   ]
  },
  {
   "cell_type": "code",
   "execution_count": null,
   "metadata": {},
   "outputs": [],
   "source": [
    "# 5. The mean of 6, 8, x + 2, 10, 2x - 1, and 2 is 9. Find the value of x and also the value of the observation in the data.\n",
    "# Basic calculations\n",
    "(6+8+x+2+10+2x-1+2)/6 = 9\n",
    "(27 + 3x)             = 9*6\n",
    "3x                    = 54 - 27\n",
    "x                     = 27/3 = 9"
   ]
  },
  {
   "cell_type": "code",
   "execution_count": null,
   "metadata": {},
   "outputs": [],
   "source": [
    "# 6. Find the mean of the following distribution.\n",
    "# (a). The age of 20 boys in a locality is given below.\n",
    "    #Age in Years  12,10,15,14,8\n",
    "    #Number of boys 5,3,2,6,4\n",
    "    Summation of Boys     = 20\n",
    "    Multiplication of Age = 60+30+30+84+32 = 236\n",
    "    Mean                  = 236/20 = 11.8\n",
    "    \n",
    "# (b). Marks obtained by 40 students in an exam are given below.\n",
    "    #Marks              25,30,15,20,24\n",
    "    #Number of students 8,12,10,6,4\n",
    "    Summation of Students = 40\n",
    "    Multiplication of Age = 200+360+150+120+96 = 926\n",
    "    Mean                  = 926/40 = 23.15\n"
   ]
  },
  {
   "cell_type": "code",
   "execution_count": 5,
   "metadata": {},
   "outputs": [
    {
     "name": "stdout",
     "output_type": "stream",
     "text": [
      "Modes for above lists :  8 , 17 , 3\n"
     ]
    }
   ],
   "source": [
    "import numpy as np\n",
    "from statistics import mean ,median, mode\n",
    "\n",
    "# 7. Find the mode of the following data.\n",
    "#(a) 12, 8, 4, 8, 1, 8, 9, 11, 9, 10, 12, 8\n",
    "#(b) 15, 22, 17, 19, 22, 17, 29, 24, 17, 15\n",
    "#(c) 0, 3, 2, 1, 3, 5, 4, 3, 42, 1, 2, 0\n",
    "#(d) 1, 7, 2, 4, 5, 9, 8, 3\n",
    "\n",
    "lst1 = [12, 8, 4, 8, 1, 8, 9, 11, 9, 10, 12, 8]\n",
    "lst2 = [15, 22, 17, 19, 22, 17, 29, 24, 17, 15]\n",
    "lst3 = [0, 3, 2, 1, 3, 5, 4, 3, 42, 1, 2, 0]\n",
    "lst4 = [1, 7, 2, 4, 5, 9, 8, 3]\n",
    "print('Modes for above lists : ',mode(lst1),',',mode(lst2),',',mode(lst3))\n",
    "print('Mode for list4 : ',mode(lst4)) -- All are unique numbers no mode for this list"
   ]
  },
  {
   "cell_type": "code",
   "execution_count": null,
   "metadata": {},
   "outputs": [],
   "source": [
    "# 8. The following observations are arranged in ascending order. The median of the data is 25 find the value of x.\n",
    " 17, x, 24, x + 7, 35, 36, 46\n",
    "    \n",
    "We know median                                         = 25 \n",
    "And median will be always center value for odd numbers = x+7\n",
    "\n",
    "Therefore \n",
    "x+7 = 25 \n",
    "x   = 25 - 7 = 17"
   ]
  },
  {
   "cell_type": "code",
   "execution_count": null,
   "metadata": {},
   "outputs": [],
   "source": [
    "# 9. In the above problem, how would you approach the problem if the numbers are not in ascending order ? What are possible values of X then ?\n",
    "Above approach works for non-ascending order as well"
   ]
  },
  {
   "cell_type": "code",
   "execution_count": null,
   "metadata": {},
   "outputs": [],
   "source": [
    "# 10. In which of these situations would you use the mode to measure the central tendency of the data\n",
    "A. Justin records the temperature at noon every day for two weeks and wants to know the temperature of a 'typical' day.\n",
    "    No \n",
    "B. Would you use the mean in all of these situations?\n",
    "    No\n",
    "C. Juliana measures the height of all the girls on her soccer team and wants to know the typical height of a soccer player.\n",
    "    No\n",
    "D. Sam asks the students in her class to identify their favorite colors and wants to know which color is the most common.\n",
    "    Yes. ( Mode will be used for Nominal data )"
   ]
  }
 ],
 "metadata": {
  "kernelspec": {
   "display_name": "Python 3",
   "language": "python",
   "name": "python3"
  },
  "language_info": {
   "codemirror_mode": {
    "name": "ipython",
    "version": 3
   },
   "file_extension": ".py",
   "mimetype": "text/x-python",
   "name": "python",
   "nbconvert_exporter": "python",
   "pygments_lexer": "ipython3",
   "version": "3.7.3"
  }
 },
 "nbformat": 4,
 "nbformat_minor": 2
}
