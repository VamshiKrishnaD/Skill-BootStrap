{
 "cells": [
  {
   "cell_type": "code",
   "execution_count": null,
   "metadata": {},
   "outputs": [],
   "source": [
    "# Probability Assignment"
   ]
  },
  {
   "cell_type": "code",
   "execution_count": 2,
   "metadata": {},
   "outputs": [],
   "source": [
    "# 1.Two dies are rolled at once. Find out the probability for sum of numbers being even and one of the dice shows 6.\n",
    "Possible events =(2,6), (4,6),(6,2), (6,4), (6,6)\n",
    "Number of possible events =5\n",
    "Total events =6^2=36\n",
    "P(sum of numbers being even & 1 die shows 6) =5/36=0.13\n",
    "\n",
    "# 2.Two dies are rolled at once. Find out the probability for sum of numbers being less than 7\n",
    "Possible values that sum of two events can be 8 or more = 15\n",
    "Total events =6^2=36\n",
    "Probability =15/36=0.41 \n",
    "Now to find out not occuring the event we P(A)=1-P(A) ie. P(sum of numbers less than 7) = 1 - 0.41 = 0.59\n",
    "\n",
    "# 3.You toss a fair coin three times: Given that you have observed at least one heads, what is the probability that you observe at least two heads?\n",
    "Outcomes of tossing a fair coin 3 times : {HHH, HHT, HTH, HTT, THH, THT, TTH, TTT}\n",
    "P(atleast one head)= 7/8\n",
    "P(atleast two head)= 4/8\n",
    "P(A/B) = P(A)/P(B) = (4/8) / (7/8) = 4/7\n",
    "\n",
    "# 4.A and B are a married couple with two kids. One of them is a girl. What is the probability that their other kid is also a girl?\n",
    "Possible events =(Girl,Girl),(Boy,Boy),(Boy,Girl), (Girl,Boy)\n",
    "Given that couple has One Girl =3\n",
    "Out of which look for other child is also Girl; P(other kid being Girl) =1/3\n"
   ]
  },
  {
   "cell_type": "code",
   "execution_count": null,
   "metadata": {},
   "outputs": [],
   "source": [
    "# Conditional, Joint and Marginal Probability\n",
    "# 5.In my town, it's rainy for one third of the days. Given that it is rainy, there will be heavy traffic with probability 1/2, and given that it is not rainy, there will be heavy traffic with probability 1/4. If it's rainy and there is heavy traffic, I arrive late for work with probability 1/2. On the other hand, the probability of being late is 1/8 if it is not rainy and there is no heavy traffic. In other situations (rainy and no traffic, not rainy and traffic) the probability of being late is 0.25, 0.25. You pick a random day.\n",
    "        \n",
    "# a. What is the probability that it's not raining and there is heavy traffic and I am not late?\n",
    "# b. What is the probability that I am late?\n",
    "# c. Given that I arrived late at work, what is the probability that it rained that day?\n",
    "\n"
   ]
  },
  {
   "cell_type": "code",
   "execution_count": null,
   "metadata": {},
   "outputs": [],
   "source": [
    "# 6. A box contains three coins: two regular coins and one fake two-headed coin (P(Heads)=1), You pick a coin at random and toss it.\n",
    "# a. What is the probability that it lands heads up?\n",
    "# b. You pick a coin at random and toss it and get heads. What is the probability that it is the two-headed coin?\n"
   ]
  },
  {
   "cell_type": "code",
   "execution_count": null,
   "metadata": {},
   "outputs": [],
   "source": [
    "# 7. Suppose that, of all the customers at a coffee shop,\n",
    "# 70% purchase a cup of coffee;\n",
    "# 40% purchase a piece of cake;\n",
    "# 20% purchase both a cup of coffee and a piece of cake.\n",
    "\n",
    "P(coffee) = 0.7 \n",
    "P(cake) = 0.4\n",
    "P(coffee ∩ cake) = 0.2\n",
    "Therefore:\n",
    "P(A|B) = P(A ∩ B)/P(B) = 0.2/0.4 = 1/2\n"
   ]
  },
  {
   "cell_type": "code",
   "execution_count": null,
   "metadata": {},
   "outputs": [],
   "source": [
    "# 8. A is known to tell the truth in 5 cases out of 6 and he states that a white ball was drawn from a bag containing 8 blacks and 1 white ball. Find the probability that the white ball was drawn.\n",
    "W = White ball drawn \n",
    "T = Speaking Truth\n",
    "\n",
    "P(W)   = 1/9          # White ball drawn chances \n",
    "P(!W)  = 1-1/9 = 8/9  # White ball not drawn  \n",
    "P(T/W) = 5/6          # White ball drawn, speaking Truth\n",
    "P(T/!W) = 1-5/6 = 1/6 # White ball not drawn, speaking Truth\n",
    "\n",
    "Using Bayes Theorem, given conditional statements \n",
    "\n",
    "P(W/T) = (P(T/W)*P(W)) / (P(T/W)*P(W)) + (P(T/!W)*P(!W)) \n",
    "       = 5/13     # After replacing all the above values "
   ]
  },
  {
   "cell_type": "code",
   "execution_count": null,
   "metadata": {},
   "outputs": [],
   "source": [
    "# 9. A speaks the truth 4 out of 5 times. A die is tossed. A report that it is a 6. What are the chances that there actually was a 6?\n",
    "A = Getting 6 after die rolled \n",
    "B = Speaking Truth\n",
    "    \n",
    "P(A)   = 1/6\n",
    "P(B/A) = 4/5 \n",
    "\n",
    "P(!A)  = 5/6\n",
    "P(B/!A)= 1/5 \n",
    "\n",
    "P(B)  = (P(B/A)P(A))+(P(B/!A)P(!A)) = ((4/5)(1/6)) + ((1/5)(5/6)) = 3/10\n",
    "\n",
    "P(A/B)= (P(BA)P(A))/P(B) = ((4/5)(1/6))/(3/10) = 4/9"
   ]
  },
  {
   "cell_type": "code",
   "execution_count": null,
   "metadata": {},
   "outputs": [],
   "source": [
    "# 10. In a class, 40% of the student’s study math and science. 60% of the student’s study math. What is the probability of a student studying science given he/she is already studying math?\n",
    "P(Maths)           = 60/100\n",
    "P(Maths ∩ Science) = 40/100\n",
    "P(Science)         = ?\n",
    "\n",
    "P(Science/Maths)   = (P(Science) * P(Maths/Science))/P(Maths) = P(Maths ∩ Science)/P(Maths) = 0.4/0.6 = 2/3"
   ]
  },
  {
   "cell_type": "code",
   "execution_count": null,
   "metadata": {},
   "outputs": [],
   "source": [
    "# 11. Below is a table of graduates and post graduates\n",
    "# a) What is the probability that a randomly selected individual is a male and a graduate? What kind of probability is it (Marginal/ Joint/Conditional)\n",
    "    Joint Probability : The probability of event A and event B occurring P(A and B).\n",
    "# b) What is the probability that a randomly selected individual is a male?\n",
    "    P(Male) = 60/100 = 0.6\n",
    "# c) What is the probability of a randomly selected individual being a graduate? What kind of probability is this?\n",
    "    Marginal Probability : the probability of an event occurring P(A)\n",
    "# d) What is the probability that a randomly selected person is a female given that the selected person is a post graduate? What kind of probability is this?\n",
    "    Conditional Probability : P(A|B) is the probability of event A occurring, given that event B occurs\n"
   ]
  },
  {
   "cell_type": "code",
   "execution_count": null,
   "metadata": {},
   "outputs": [],
   "source": [
    "# 12. You need to figure out whether a company is fraud based on the legal charges they filed. We have the knowledge that, the chances a company submitting fraudulent filings is 0.1. There exists an algorithm that can predict fraud. This algorithm returns a correct positive result in 92% of the cases in which the fraud is present, and correct negative results in 90% of the cases where the fraud is not present. Suppose we observe a company for whom the algorithm test returns a fraud result. Calculate the posteriori probability that this company truly did frau in their filings\n"
   ]
  },
  {
   "cell_type": "code",
   "execution_count": null,
   "metadata": {},
   "outputs": [],
   "source": [
    "# 13. In a particular region during a 1 year period, there were 1000 deaths. It was observed that 321 people died of a renal failure and 460 men had at least one parent with renal failure. Of these 460 men, 115 died of renal failure. Calculate that he dies of renal failure if neither of his parents had a renal failure\n"
   ]
  },
  {
   "cell_type": "code",
   "execution_count": null,
   "metadata": {},
   "outputs": [],
   "source": [
    "# 14. You go to see the doctor about an ingrowing toe nail. The doctor selects you at random to have a blood test for swine flu, which for the purposes of this exercise we will say is currently suspected to affect 1 in 10,000 people in Australia. The test is 99% accurate, in the sense that the probability of a false positive is 1%. The probability of a false negative is zero. You test positive. What is the new probability that you have swine flu?\n",
    "\n",
    "P(D)   : probability you have swine flu.\n",
    "P(T)   : probability of a positive test.\n",
    "P(ND)  : probability of not having swine flu.\n",
    "P(D|T) : ?\n",
    "\n",
    "P(D) = 0.0001 (the a priori probability you have swine flu).\n",
    "P(ND) = 0.9999\n",
    "P(T|D) = 1 (if you have swine flu the test is always positive).\n",
    "P(T|ND) = 0.01 (1% chance of a false positive).\n",
    "\n",
    "Using Bayes Theorem\n",
    "P(D|T) = P(T|D)P(D) / P(T)\n",
    "\n",
    "where as P(T) = (P(T|D)P(D) + P(T|ND)P(ND))\n",
    "therefore P(D|T) = P(T|D)P(D) / (P(T|D)P(D) + P(T|ND)P(ND))\n",
    "\n",
    "Plugging these numbers in we get\n",
    "\n",
    "P(D|T) = 1*0.0001 / (1*0.0001+0.01*0.9999) ≈ 0.01"
   ]
  }
 ],
 "metadata": {
  "kernelspec": {
   "display_name": "Python 3",
   "language": "python",
   "name": "python3"
  },
  "language_info": {
   "codemirror_mode": {
    "name": "ipython",
    "version": 3
   },
   "file_extension": ".py",
   "mimetype": "text/x-python",
   "name": "python",
   "nbconvert_exporter": "python",
   "pygments_lexer": "ipython3",
   "version": "3.7.3"
  }
 },
 "nbformat": 4,
 "nbformat_minor": 2
}
