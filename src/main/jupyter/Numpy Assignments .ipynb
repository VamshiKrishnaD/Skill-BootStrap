{
 "cells": [
  {
   "cell_type": "code",
   "execution_count": 10,
   "metadata": {},
   "outputs": [
    {
     "name": "stdout",
     "output_type": "stream",
     "text": [
      "[0 1 2 3 4 5 6 7 8 9]\n"
     ]
    }
   ],
   "source": [
    "# Import numpy package and get alias as \"np\"\n",
    "import numpy as np"
   ]
  },
  {
   "cell_type": "code",
   "execution_count": null,
   "metadata": {},
   "outputs": [],
   "source": [
    "#1. Create a 1D array of numbers from 0 to 9.\n",
    "x = np.arange(start=0,stop=10,step=1,dtype=int)\n",
    "print(x)"
   ]
  },
  {
   "cell_type": "code",
   "execution_count": 12,
   "metadata": {},
   "outputs": [
    {
     "name": "stdout",
     "output_type": "stream",
     "text": [
      "[[ True  True  True]\n",
      " [ True  True  True]\n",
      " [ True  True  True]]\n"
     ]
    }
   ],
   "source": [
    "#2. Create a 3×3 numpy array of all True’s\n",
    "x = np.ones(shape=(3,3), dtype = bool)\n",
    "print(x)"
   ]
  },
  {
   "cell_type": "code",
   "execution_count": 79,
   "metadata": {},
   "outputs": [
    {
     "name": "stdout",
     "output_type": "stream",
     "text": [
      "[1 3 5]\n"
     ]
    }
   ],
   "source": [
    "#3. Given an array as input, print only odd numbers as output\n",
    "inpt=np.array([1,2,3,4,5,6])\n",
    "print(inpt[(inpt)%2==1])"
   ]
  },
  {
   "cell_type": "code",
   "execution_count": 80,
   "metadata": {},
   "outputs": [
    {
     "name": "stdout",
     "output_type": "stream",
     "text": [
      "[[-2  2 -2  4 -2  6]]\n"
     ]
    }
   ],
   "source": [
    "#4. Replace all odd numbers in arr with -2\n",
    "a = np.array([1,2,3,4,5,6])\n",
    "print(np.where([(inpt)%2==1],-2,inpt))"
   ]
  },
  {
   "cell_type": "code",
   "execution_count": 45,
   "metadata": {},
   "outputs": [
    {
     "name": "stdout",
     "output_type": "stream",
     "text": [
      "Original Array : \n",
      " [[1 2]\n",
      " [3 4]\n",
      " [5 6]]\n",
      "Original Shape : (3, 2)\n",
      "Converted Array : \n",
      " [[1 2 3]\n",
      " [4 5 6]]\n",
      "Converted Shape :  (2, 3)\n"
     ]
    }
   ],
   "source": [
    "#5. How to reshape an array?\n",
    "a1=np.array([[1,2],[3,4],[5,6]])\n",
    "a2 = a.reshape((2,3))\n",
    "print('Original Array :','\\n',a1)\n",
    "print('Original Shape :',a1.shape)\n",
    "\n",
    "# Let's reshape the array X\n",
    "print('Converted Array :','\\n',a2)\n",
    "print('Converted Shape : ',a2.shape)\n"
   ]
  },
  {
   "cell_type": "code",
   "execution_count": 64,
   "metadata": {},
   "outputs": [
    {
     "name": "stdout",
     "output_type": "stream",
     "text": [
      "[[1 2]\n",
      " [3 4]]\n"
     ]
    }
   ],
   "source": [
    "#6. Convert a 1D array to a 2D array with 2 rows\n",
    "A = np.array([1,2,3,4])\n",
    "B = np.reshape(A, (-1,2))\n",
    "print(B)"
   ]
  },
  {
   "cell_type": "code",
   "execution_count": 92,
   "metadata": {},
   "outputs": [
    {
     "name": "stdout",
     "output_type": "stream",
     "text": [
      "[1 3 4 5 7 8 9]\n"
     ]
    }
   ],
   "source": [
    "#7. Given an array  a  = [1,2,3,4,5,6,7,8,9] , create  new array b from a such that b includes all odd numbers and 4 multiples. \n",
    "a =np.arange(1,10)\n",
    "print(a[((a)%2==1)|((a)%4==0)])"
   ]
  },
  {
   "cell_type": "code",
   "execution_count": 114,
   "metadata": {},
   "outputs": [
    {
     "name": "stdout",
     "output_type": "stream",
     "text": [
      "[[ 1.  2.  3.]\n",
      " [ 4. nan  5.]\n",
      " [nan  6. nan]]\n",
      "[[False False False]\n",
      " [False  True False]\n",
      " [ True False  True]]\n",
      "(array([1, 2, 2]), array([1, 0, 2]))\n"
     ]
    }
   ],
   "source": [
    "#8. Given array, check if there are any null values and print them out. \n",
    "ar = np.array([1, 2, 3, 4, np.nan, 5, np.nan, 6, np.nan],dtype=float).reshape((3,3))\n",
    "print(ar)\n",
    "\n",
    "#Print boolean values\n",
    "print(np.isnan(ar))\n",
    "\n",
    "#Printing Indices\n",
    "print(np.where(np.isnan(ar)))"
   ]
  },
  {
   "cell_type": "code",
   "execution_count": 119,
   "metadata": {},
   "outputs": [
    {
     "name": "stdout",
     "output_type": "stream",
     "text": [
      "[[1. 2. 3.]\n",
      " [4. 0. 5.]\n",
      " [0. 6. 0.]]\n"
     ]
    }
   ],
   "source": [
    "#9. How to replace all missing values with 0 in a numpy array?\n",
    "ar = np.array([1, 2, 3, 4, np.nan, 5, np.nan, 6, np.nan],dtype=float).reshape((3,3))\n",
    "print(np.nan_to_num(ar))"
   ]
  },
  {
   "cell_type": "code",
   "execution_count": 127,
   "metadata": {},
   "outputs": [
    {
     "name": "stdout",
     "output_type": "stream",
     "text": [
      "Original array: [1 2 2 2 3 3 4 5 6 7 8 8]\n",
      "Counts for each #:\n",
      "[[1 2 3 4 5 6 7 8]\n",
      " [1 3 2 1 1 1 1 2]]\n"
     ]
    }
   ],
   "source": [
    "#10. How to find the count of each unique number in a NumPy array?\n",
    "a = np.array( [1,2,2,2,3,3,4,5,6,7,8,8] )\n",
    "print(\"Original array:\",a)\n",
    "print(\"Counts for each #:\")\n",
    "uniq_ele, count_ele = np.unique(a, return_counts=True)\n",
    "print(np.asarray((uniq_ele, count_ele)))"
   ]
  },
  {
   "cell_type": "code",
   "execution_count": 136,
   "metadata": {},
   "outputs": [
    {
     "name": "stdout",
     "output_type": "stream",
     "text": [
      "int64\n",
      "<U21\n"
     ]
    }
   ],
   "source": [
    "#11. How to convert a numeric to a categorical (text) array?\n",
    "a1 = np.arange(25,dtype=int).reshape([5,5])\n",
    "a2 = a1.astype(str)\n",
    "print(a1.dtype)\n",
    "print(a2.dtype)"
   ]
  },
  {
   "cell_type": "code",
   "execution_count": 153,
   "metadata": {
    "scrolled": true
   },
   "outputs": [
    {
     "data": {
      "text/plain": [
       "array([ 5,  7, 10, 14, 15, 20, 21, 25, 28, 30, 40, 42, 45, 49, 50, 55, 56,\n",
       "       60, 63, 65, 75, 77, 80, 84, 85, 90, 91, 95, 98])"
      ]
     },
     "execution_count": 153,
     "metadata": {},
     "output_type": "execute_result"
    }
   ],
   "source": [
    "#12. Write a program to print all numbers between 99 and 299 which are either divisible by 5 or 7. Exclude the elements which are divisible by both. \n",
    "a =np.arange(1,100)\n",
    "np.setdiff1d(a[(((a)%5==0)|((a)%7==0))],b[(((b)%5==0)&((b)%7==0))])\n"
   ]
  },
  {
   "cell_type": "code",
   "execution_count": 158,
   "metadata": {},
   "outputs": [
    {
     "name": "stdout",
     "output_type": "stream",
     "text": [
      "Original Array: [1 2 3 4 5 6 7 8 9]\n",
      "Reversed Array: [9 8 7 6 5 4 3 2 1]\n"
     ]
    }
   ],
   "source": [
    "#13. Write a program to reverse an array and print (Don’t use inbuilt reverse functions)\n",
    "arr = np.arange(1,10)\n",
    "print('Original Array:',arr)\n",
    "print('Reversed Array:',arr[::-1])"
   ]
  }
 ],
 "metadata": {
  "kernelspec": {
   "display_name": "Python 3",
   "language": "python",
   "name": "python3"
  },
  "language_info": {
   "codemirror_mode": {
    "name": "ipython",
    "version": 3
   },
   "file_extension": ".py",
   "mimetype": "text/x-python",
   "name": "python",
   "nbconvert_exporter": "python",
   "pygments_lexer": "ipython3",
   "version": "3.7.3"
  }
 },
 "nbformat": 4,
 "nbformat_minor": 2
}
